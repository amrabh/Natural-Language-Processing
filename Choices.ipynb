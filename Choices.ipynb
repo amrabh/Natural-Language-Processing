{
 "cells": [
  {
   "cell_type": "code",
   "execution_count": null,
   "metadata": {},
   "outputs": [],
   "source": [
    "'''\n",
    " Choices using NLTK \n",
    " Author : Amruta Abhyankar\n",
    " Date : 04/28/2021\n",
    "'''"
   ]
  },
  {
   "cell_type": "code",
   "execution_count": 1,
   "metadata": {},
   "outputs": [],
   "source": [
    "import nltk"
   ]
  },
  {
   "cell_type": "code",
   "execution_count": 2,
   "metadata": {},
   "outputs": [],
   "source": [
    "stories = nltk.corpus.gutenberg.words(\"bryant-stories.txt\")"
   ]
  },
  {
   "cell_type": "code",
   "execution_count": 5,
   "metadata": {},
   "outputs": [],
   "source": [
    "tags = nltk.pos_tag(stories,tagset=\"universal\")"
   ]
  },
  {
   "cell_type": "code",
   "execution_count": 6,
   "metadata": {},
   "outputs": [
    {
     "data": {
      "text/plain": [
       "[('[', 'NOUN'),\n",
       " ('Stories', 'NOUN'),\n",
       " ('to', 'PRT'),\n",
       " ('Tell', 'VERB'),\n",
       " ('to', 'PRT'),\n",
       " ('Children', 'NOUN'),\n",
       " ('by', 'ADP'),\n",
       " ('Sara', 'NOUN'),\n",
       " ('Cone', 'NOUN'),\n",
       " ('Bryant', 'NOUN')]"
      ]
     },
     "execution_count": 6,
     "metadata": {},
     "output_type": "execute_result"
    }
   ],
   "source": [
    "tags[:10]"
   ]
  },
  {
   "cell_type": "code",
   "execution_count": 9,
   "metadata": {},
   "outputs": [
    {
     "name": "stdout",
     "output_type": "stream",
     "text": [
      "ship or part\n",
      "food or water\n",
      "queens or princesses\n",
      "rank or wealth\n"
     ]
    }
   ],
   "source": [
    "for ((word1, tag1),(word2,tag2),(word3,tag3)) in nltk.trigrams (tags):\n",
    "    if tag1 == \"NOUN\" and word2 == \"or\" and tag3 ==\"NOUN\":\n",
    "        print(word1+\" \"+word2+\" \"+word3)"
   ]
  },
  {
   "cell_type": "code",
   "execution_count": null,
   "metadata": {},
   "outputs": [],
   "source": []
  }
 ],
 "metadata": {
  "kernelspec": {
   "display_name": "Python 3",
   "language": "python",
   "name": "python3"
  },
  "language_info": {
   "codemirror_mode": {
    "name": "ipython",
    "version": 3
   },
   "file_extension": ".py",
   "mimetype": "text/x-python",
   "name": "python",
   "nbconvert_exporter": "python",
   "pygments_lexer": "ipython3",
   "version": "3.8.5"
  }
 },
 "nbformat": 4,
 "nbformat_minor": 4
}
