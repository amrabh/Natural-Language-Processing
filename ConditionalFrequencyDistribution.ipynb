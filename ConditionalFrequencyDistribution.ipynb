{
 "cells": [
  {
   "cell_type": "code",
   "execution_count": 1,
   "metadata": {},
   "outputs": [],
   "source": [
    "### Exploring NLTK  (Natural Language Toolkit)\n",
    "'''\n",
    "Author : Amruta Abhyankar\n",
    "Date : 2021/04/27\n",
    "\n",
    "\n",
    "'''"
   ]
  },
  {
   "cell_type": "code",
   "execution_count": 2,
   "metadata": {},
   "outputs": [],
   "source": [
    "import nltk"
   ]
  },
  {
   "cell_type": "code",
   "execution_count": 3,
   "metadata": {},
   "outputs": [],
   "source": [
    "names = [(\"Group A\", \"Paul\"), (\"Group A\", \"Mike\"), (\"Group A\", \"Katy\"), (\"Group B\", \"Amy\"), (\"Group B\", \"Joe\"),(\"Group B\", \"Amy\")]"
   ]
  },
  {
   "cell_type": "code",
   "execution_count": 4,
   "metadata": {},
   "outputs": [
    {
     "data": {
      "text/plain": [
       "[('Group A', 'Paul'),\n",
       " ('Group A', 'Mike'),\n",
       " ('Group A', 'Katy'),\n",
       " ('Group B', 'Amy'),\n",
       " ('Group B', 'Joe'),\n",
       " ('Group B', 'Amy')]"
      ]
     },
     "execution_count": 4,
     "metadata": {},
     "output_type": "execute_result"
    }
   ],
   "source": [
    "names"
   ]
  },
  {
   "cell_type": "code",
   "execution_count": 5,
   "metadata": {},
   "outputs": [
    {
     "data": {
      "text/plain": [
       "FreqDist({('Group B', 'Amy'): 2, ('Group A', 'Paul'): 1, ('Group A', 'Mike'): 1, ('Group A', 'Katy'): 1, ('Group B', 'Joe'): 1})"
      ]
     },
     "execution_count": 5,
     "metadata": {},
     "output_type": "execute_result"
    }
   ],
   "source": [
    "nltk.FreqDist(names)"
   ]
  },
  {
   "cell_type": "code",
   "execution_count": 6,
   "metadata": {},
   "outputs": [],
   "source": [
    "cfd = nltk.ConditionalFreqDist(names)"
   ]
  },
  {
   "cell_type": "code",
   "execution_count": 19,
   "metadata": {},
   "outputs": [
    {
     "name": "stdout",
     "output_type": "stream",
     "text": [
      "Group A\n",
      "Group B\n"
     ]
    }
   ],
   "source": [
    "for i in cfd:\n",
    "    print(i)"
   ]
  },
  {
   "cell_type": "code",
   "execution_count": 7,
   "metadata": {},
   "outputs": [],
   "source": [
    "alice = nltk.corpus.gutenberg.words(\"carroll-alice.txt\")"
   ]
  },
  {
   "cell_type": "code",
   "execution_count": 8,
   "metadata": {},
   "outputs": [],
   "source": [
    "alice_fd = nltk.FreqDist(alice)"
   ]
  },
  {
   "cell_type": "code",
   "execution_count": 9,
   "metadata": {},
   "outputs": [],
   "source": [
    "alice_fd_100 = alice_fd.most_common(100)"
   ]
  },
  {
   "cell_type": "code",
   "execution_count": 10,
   "metadata": {},
   "outputs": [],
   "source": [
    "moby = nltk.corpus.gutenberg.words(\"melville-moby_dick.txt\")"
   ]
  },
  {
   "cell_type": "code",
   "execution_count": 11,
   "metadata": {},
   "outputs": [],
   "source": [
    "moby_fd = nltk.FreqDist(moby)"
   ]
  },
  {
   "cell_type": "code",
   "execution_count": 12,
   "metadata": {},
   "outputs": [],
   "source": [
    "moby_fd_100 = moby_fd.most_common(100)"
   ]
  },
  {
   "cell_type": "code",
   "execution_count": 13,
   "metadata": {},
   "outputs": [],
   "source": [
    "alice_100 = [word[0] for word in alice_fd_100]\n",
    "moby_100 = [word[0] for word in moby_fd_100]"
   ]
  },
  {
   "cell_type": "code",
   "execution_count": 14,
   "metadata": {},
   "outputs": [
    {
     "data": {
      "text/plain": [
       "{\"!'\",\n",
       " '*',\n",
       " \",'\",\n",
       " \".'\",\n",
       " ':',\n",
       " \"?'\",\n",
       " 'Alice',\n",
       " 'Gryphon',\n",
       " 'Hatter',\n",
       " 'King',\n",
       " 'Mock',\n",
       " 'Queen',\n",
       " 'Turtle',\n",
       " 'again',\n",
       " 'began',\n",
       " 'can',\n",
       " 'could',\n",
       " 'did',\n",
       " 'do',\n",
       " 'herself',\n",
       " 'know',\n",
       " 'little',\n",
       " 'll',\n",
       " 'm',\n",
       " 'much',\n",
       " 'off',\n",
       " 'quite',\n",
       " 'said',\n",
       " 'say',\n",
       " 'see',\n",
       " 'she',\n",
       " 't',\n",
       " 'thought',\n",
       " 'way',\n",
       " 'went',\n",
       " 'your'}"
      ]
     },
     "execution_count": 14,
     "metadata": {},
     "output_type": "execute_result"
    }
   ],
   "source": [
    "set(alice_100) - set(moby_100)"
   ]
  },
  {
   "cell_type": "code",
   "execution_count": 15,
   "metadata": {},
   "outputs": [
    {
     "data": {
      "text/plain": [
       "{'!\"',\n",
       " '\"',\n",
       " '.\"',\n",
       " '?',\n",
       " 'Ahab',\n",
       " 'But',\n",
       " 'any',\n",
       " 'are',\n",
       " 'been',\n",
       " 'boat',\n",
       " 'from',\n",
       " 'head',\n",
       " 'him',\n",
       " 'long',\n",
       " 'man',\n",
       " 'more',\n",
       " 'now',\n",
       " 'old',\n",
       " 'only',\n",
       " 'other',\n",
       " 'over',\n",
       " 'sea',\n",
       " 'ship',\n",
       " 'some',\n",
       " 'such',\n",
       " 'than',\n",
       " 'their',\n",
       " 'these',\n",
       " 'though',\n",
       " 'upon',\n",
       " 'we',\n",
       " 'whale',\n",
       " 'which',\n",
       " 'who',\n",
       " 'will',\n",
       " 'ye'}"
      ]
     },
     "execution_count": 15,
     "metadata": {},
     "output_type": "execute_result"
    }
   ],
   "source": [
    "set(moby_100) - set(alice_100)"
   ]
  }
 ],
 "metadata": {
  "kernelspec": {
   "display_name": "Python 3",
   "language": "python",
   "name": "python3"
  },
  "language_info": {
   "codemirror_mode": {
    "name": "ipython",
    "version": 3
   },
   "file_extension": ".py",
   "mimetype": "text/x-python",
   "name": "python",
   "nbconvert_exporter": "python",
   "pygments_lexer": "ipython3",
   "version": "3.8.5"
  }
 },
 "nbformat": 4,
 "nbformat_minor": 4
}
